{
 "cells": [
  {
   "cell_type": "code",
   "execution_count": 151,
   "id": "8a06905a",
   "metadata": {},
   "outputs": [],
   "source": [
    "from tensorflow.keras.models import Sequential\n",
    "from tensorflow.keras.layers import Dense\n",
    "from tensorflow.keras.layers import Convolution2D\n",
    "from tensorflow.keras.layers import MaxPooling2D\n",
    "from tensorflow.keras.layers import Flatten"
   ]
  },
  {
   "cell_type": "code",
   "execution_count": 152,
   "id": "05e8bd0a",
   "metadata": {},
   "outputs": [],
   "source": [
    "from tensorflow.keras.preprocessing.image import ImageDataGenerator\n",
    "train_datagen = ImageDataGenerator(rescale = 1./255, shear_range = 0.2, zoom_range = 0.2,horizontal_flip = True)\n",
    "test_datagen = ImageDataGenerator(rescale = 1./ 255)\n"
   ]
  },
  {
   "cell_type": "code",
   "execution_count": 153,
   "id": "7814ddd7",
   "metadata": {},
   "outputs": [
    {
     "name": "stdout",
     "output_type": "stream",
     "text": [
      "Found 10041 images belonging to 35 classes.\n",
      "Found 4328 images belonging to 35 classes.\n"
     ]
    }
   ],
   "source": [
    "x_train = train_datagen.flow_from_directory(r\"C:\\Users\\Abirami B\\Desktop\\Fashion Dataset\\train\",target_size = (64,64), batch_size = 32,class_mode = \"categorical\")\n",
    "x_test = test_datagen.flow_from_directory(r\"C:\\Users\\Abirami B\\Desktop\\Fashion Dataset\\test\",target_size = (64,64), batch_size = 32,class_mode = \"categorical\")"
   ]
  },
  {
   "cell_type": "code",
   "execution_count": 154,
   "id": "440bcec6",
   "metadata": {
    "scrolled": true
   },
   "outputs": [
    {
     "data": {
      "text/plain": [
       "{'belt': 0,\n",
       " 'cap': 1,\n",
       " 'cosmetics': 2,\n",
       " \"men's pant\": 3,\n",
       " \"men's shirt\": 4,\n",
       " \"men's shoe\": 5,\n",
       " \"men's slipper\": 6,\n",
       " \"men's trouser\": 7,\n",
       " \"men's tshirt\": 8,\n",
       " \"men's wallet\": 9,\n",
       " \"men's watch\": 10,\n",
       " 'mens hoodie': 11,\n",
       " 'mens inner wear': 12,\n",
       " 'mens jacket': 13,\n",
       " 'mens sleeve less': 14,\n",
       " 'saree': 15,\n",
       " 'socks': 16,\n",
       " 'sports equipments': 17,\n",
       " 'sports wear': 18,\n",
       " 'sunglass': 19,\n",
       " 'tie and scarf': 20,\n",
       " 'travel bag': 21,\n",
       " 'umberlla': 22,\n",
       " 'water bottle': 23,\n",
       " \"women's bottom wear\": 24,\n",
       " \"women's footwear\": 25,\n",
       " \"women's modern wear\": 26,\n",
       " \"women's top\": 27,\n",
       " \"women's tshirt\": 28,\n",
       " \"women's watch\": 29,\n",
       " 'womens accessories': 30,\n",
       " 'womens handbag': 31,\n",
       " 'womens inner wear': 32,\n",
       " 'womens shawl': 33,\n",
       " 'womens wallet': 34}"
      ]
     },
     "execution_count": 154,
     "metadata": {},
     "output_type": "execute_result"
    }
   ],
   "source": [
    "x_train.class_indices"
   ]
  },
  {
   "cell_type": "code",
   "execution_count": 155,
   "id": "c2dff19a",
   "metadata": {},
   "outputs": [],
   "source": [
    "model = Sequential()"
   ]
  },
  {
   "cell_type": "code",
   "execution_count": 156,
   "id": "6bf2089a",
   "metadata": {},
   "outputs": [],
   "source": [
    "model.add(Convolution2D(32,(3,3),input_shape=(64,64,3),activation = \"relu\"))"
   ]
  },
  {
   "cell_type": "code",
   "execution_count": 157,
   "id": "76c52819",
   "metadata": {},
   "outputs": [],
   "source": [
    "model.add(MaxPooling2D(pool_size = (2,2)))"
   ]
  },
  {
   "cell_type": "code",
   "execution_count": 158,
   "id": "efdb5abe",
   "metadata": {},
   "outputs": [],
   "source": [
    "model.add(Flatten())"
   ]
  },
  {
   "cell_type": "code",
   "execution_count": 159,
   "id": "456c10a7",
   "metadata": {},
   "outputs": [],
   "source": [
    "model.add(Dense(units = 128,kernel_initializer = \"random_uniform\",activation = \"relu\" ))"
   ]
  },
  {
   "cell_type": "code",
   "execution_count": 160,
   "id": "3a834e6e",
   "metadata": {},
   "outputs": [],
   "source": [
    "model.add(Dense(units = 35,kernel_initializer = \"random_uniform\",activation = \"softmax\" )) "
   ]
  },
  {
   "cell_type": "code",
   "execution_count": 161,
   "id": "16b1830d",
   "metadata": {},
   "outputs": [],
   "source": [
    "model.compile(loss = \"categorical_crossentropy\" ,optimizer = \"adam\", metrics = [\"accuracy\"])"
   ]
  },
  {
   "cell_type": "code",
   "execution_count": null,
   "id": "9fe96d29",
   "metadata": {},
   "outputs": [
    {
     "name": "stdout",
     "output_type": "stream",
     "text": [
      "Epoch 1/35\n",
      "314/314 [==============================] - 66s 212ms/step - loss: 0.4197 - accuracy: 0.8598 - val_loss: 6.0936 - val_accuracy: 0.4445\n",
      "Epoch 2/35\n",
      "314/314 [==============================] - 65s 208ms/step - loss: 0.3829 - accuracy: 0.8735 - val_loss: 6.3226 - val_accuracy: 0.4298\n",
      "Epoch 3/35\n",
      "314/314 [==============================] - 65s 206ms/step - loss: 0.3861 - accuracy: 0.8710 - val_loss: 6.4391 - val_accuracy: 0.4420\n",
      "Epoch 4/35\n",
      "314/314 [==============================] - 65s 207ms/step - loss: 0.3611 - accuracy: 0.8806 - val_loss: 6.7889 - val_accuracy: 0.4538\n",
      "Epoch 5/35\n",
      "314/314 [==============================] - 65s 208ms/step - loss: 0.3491 - accuracy: 0.8797 - val_loss: 6.9471 - val_accuracy: 0.4640\n",
      "Epoch 6/35\n",
      "314/314 [==============================] - 65s 208ms/step - loss: 0.3257 - accuracy: 0.8910 - val_loss: 7.0509 - val_accuracy: 0.4471\n",
      "Epoch 7/35\n",
      "314/314 [==============================] - 65s 208ms/step - loss: 0.3284 - accuracy: 0.8904 - val_loss: 6.8250 - val_accuracy: 0.4566\n",
      "Epoch 8/35\n",
      "314/314 [==============================] - 73s 232ms/step - loss: 0.3194 - accuracy: 0.8922 - val_loss: 7.3235 - val_accuracy: 0.4404\n",
      "Epoch 9/35\n",
      "314/314 [==============================] - 74s 237ms/step - loss: 0.3072 - accuracy: 0.8983 - val_loss: 7.3653 - val_accuracy: 0.4443\n",
      "Epoch 10/35\n",
      "314/314 [==============================] - 73s 231ms/step - loss: 0.2959 - accuracy: 0.9008 - val_loss: 7.1240 - val_accuracy: 0.4450\n",
      "Epoch 11/35\n",
      "314/314 [==============================] - 71s 226ms/step - loss: 0.2810 - accuracy: 0.9002 - val_loss: 7.7004 - val_accuracy: 0.4549\n",
      "Epoch 12/35\n",
      "314/314 [==============================] - 74s 236ms/step - loss: 0.2804 - accuracy: 0.9010 - val_loss: 7.7534 - val_accuracy: 0.4411\n",
      "Epoch 13/35\n",
      "314/314 [==============================] - 82s 260ms/step - loss: 0.2820 - accuracy: 0.9036 - val_loss: 7.7392 - val_accuracy: 0.4418\n",
      "Epoch 14/35\n",
      "314/314 [==============================] - 76s 243ms/step - loss: 0.2684 - accuracy: 0.9067 - val_loss: 8.1590 - val_accuracy: 0.4531\n",
      "Epoch 15/35\n",
      "314/314 [==============================] - 74s 235ms/step - loss: 0.2576 - accuracy: 0.9123 - val_loss: 7.9817 - val_accuracy: 0.4422\n",
      "Epoch 16/35\n",
      "314/314 [==============================] - 71s 226ms/step - loss: 0.2473 - accuracy: 0.9160 - val_loss: 8.6213 - val_accuracy: 0.4330\n",
      "Epoch 17/35\n",
      "314/314 [==============================] - 66s 210ms/step - loss: 0.2382 - accuracy: 0.9168 - val_loss: 8.5784 - val_accuracy: 0.4471\n",
      "Epoch 18/35\n",
      "314/314 [==============================] - 71s 227ms/step - loss: 0.2425 - accuracy: 0.9175 - val_loss: 8.9228 - val_accuracy: 0.4536\n",
      "Epoch 19/35\n",
      "314/314 [==============================] - 67s 214ms/step - loss: 0.2266 - accuracy: 0.9215 - val_loss: 8.0400 - val_accuracy: 0.4434\n",
      "Epoch 20/35\n",
      "314/314 [==============================] - 69s 218ms/step - loss: 0.2304 - accuracy: 0.9226 - val_loss: 9.2295 - val_accuracy: 0.4457\n",
      "Epoch 21/35\n",
      "314/314 [==============================] - 64s 205ms/step - loss: 0.2204 - accuracy: 0.9234 - val_loss: 9.6001 - val_accuracy: 0.4489\n",
      "Epoch 22/35\n",
      "314/314 [==============================] - 64s 205ms/step - loss: 0.2181 - accuracy: 0.9247 - val_loss: 8.2946 - val_accuracy: 0.4563\n",
      "Epoch 23/35\n",
      "314/314 [==============================] - 66s 209ms/step - loss: 0.2085 - accuracy: 0.9281 - val_loss: 9.3861 - val_accuracy: 0.4549\n",
      "Epoch 24/35\n",
      "314/314 [==============================] - 65s 205ms/step - loss: 0.1972 - accuracy: 0.9316 - val_loss: 9.7835 - val_accuracy: 0.4536\n",
      "Epoch 25/35\n",
      "314/314 [==============================] - 64s 203ms/step - loss: 0.1928 - accuracy: 0.9319 - val_loss: 8.5647 - val_accuracy: 0.4563\n",
      "Epoch 26/35\n",
      "314/314 [==============================] - 64s 203ms/step - loss: 0.1899 - accuracy: 0.9337 - val_loss: 9.6846 - val_accuracy: 0.4522\n",
      "Epoch 27/35\n",
      "314/314 [==============================] - 64s 203ms/step - loss: 0.1945 - accuracy: 0.9305 - val_loss: 9.8795 - val_accuracy: 0.4730\n",
      "Epoch 28/35\n",
      "314/314 [==============================] - 65s 206ms/step - loss: 0.1859 - accuracy: 0.9345 - val_loss: 9.6680 - val_accuracy: 0.4362\n",
      "Epoch 29/35\n",
      "314/314 [==============================] - 64s 203ms/step - loss: 0.1699 - accuracy: 0.9425 - val_loss: 10.0193 - val_accuracy: 0.4637\n",
      "Epoch 30/35\n",
      "314/314 [==============================] - 65s 206ms/step - loss: 0.1619 - accuracy: 0.9423 - val_loss: 10.8716 - val_accuracy: 0.4577\n",
      "Epoch 31/35\n",
      "314/314 [==============================] - 64s 203ms/step - loss: 0.1684 - accuracy: 0.9396 - val_loss: 10.4273 - val_accuracy: 0.4605\n",
      "Epoch 32/35\n",
      "314/314 [==============================] - 72s 230ms/step - loss: 0.1826 - accuracy: 0.9364 - val_loss: 10.7071 - val_accuracy: 0.4492\n",
      "Epoch 33/35\n",
      "314/314 [==============================] - 66s 209ms/step - loss: 0.1611 - accuracy: 0.9448 - val_loss: 9.6787 - val_accuracy: 0.4644\n",
      "Epoch 34/35\n",
      "314/314 [==============================] - 64s 205ms/step - loss: 0.1643 - accuracy: 0.9421 - val_loss: 10.5563 - val_accuracy: 0.4457\n",
      "Epoch 35/35\n",
      "294/314 [===========================>..] - ETA: 3s - loss: 0.1588 - accuracy: 0.9438"
     ]
    }
   ],
   "source": [
    "model.fit_generator(x_train,steps_per_epoch = len(x_train), epochs = 35, validation_data = x_test,validation_steps = len(x_test))"
   ]
  },
  {
   "cell_type": "code",
   "execution_count": 163,
   "id": "2da50dbc",
   "metadata": {},
   "outputs": [],
   "source": [
    "model.save(\"cnn.h5\")"
   ]
  },
  {
   "cell_type": "code",
   "execution_count": null,
   "id": "66d08649",
   "metadata": {},
   "outputs": [],
   "source": []
  }
 ],
 "metadata": {
  "kernelspec": {
   "display_name": "Python 3 (ipykernel)",
   "language": "python",
   "name": "python3"
  },
  "language_info": {
   "codemirror_mode": {
    "name": "ipython",
    "version": 3
   },
   "file_extension": ".py",
   "mimetype": "text/x-python",
   "name": "python",
   "nbconvert_exporter": "python",
   "pygments_lexer": "ipython3",
   "version": "3.9.4"
  }
 },
 "nbformat": 4,
 "nbformat_minor": 5
}
